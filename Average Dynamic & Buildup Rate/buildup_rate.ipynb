{
 "cells": [
  {
   "cell_type": "code",
   "execution_count": 1,
   "outputs": [],
   "source": [
    "import numpy as np\n",
    "\n",
    "from matplotlib import pyplot as plt\n",
    "import matplotlib.pylab as pylab\n",
    "\n",
    "from numba import njit, prange\n",
    "\n",
    "from sklearn.linear_model import LinearRegression"
   ],
   "metadata": {
    "collapsed": false,
    "pycharm": {
     "name": "#%%\n"
    }
   }
  },
  {
   "cell_type": "code",
   "execution_count": 2,
   "outputs": [],
   "source": [
    "dt = .001\n",
    "tau = .1\n",
    "noise_tau = .002\n",
    "w11, w22 = 1, 1\n",
    "w21, w12 = 1, 1\n",
    "dur = 2\n",
    "bifurcate_time = .8\n",
    "dip_time = bifurcate_time - .18\n",
    "sgm = 5\n",
    "threshold = 70\n",
    "S = 250\n",
    "R_initial = 32\n",
    "eta = S*.03"
   ],
   "metadata": {
    "collapsed": false,
    "pycharm": {
     "name": "#%%\n"
    }
   }
  },
  {
   "cell_type": "code",
   "execution_count": 15,
   "outputs": [],
   "source": [
    "strong_Tin = [.512]\n",
    "medium_Tin = [.256, .128, .064]\n",
    "weak = [.032, 0]\n",
    "medium_Tout = [-.064, -.128, -.256]\n",
    "strong_Tout = [-.512]\n",
    "coh_lst = [strong_Tin, medium_Tin, weak, medium_Tout, strong_Tout]\n",
    "coh_lst_flat = np.hstack(coh_lst)"
   ],
   "metadata": {
    "collapsed": false,
    "pycharm": {
     "name": "#%%\n"
    }
   }
  },
  {
   "cell_type": "code",
   "execution_count": 17,
   "outputs": [],
   "source": [
    "@njit(parallel=True, fastmath=True)\n",
    "def get_dynamic_arr(coh, a, b):\n",
    "\n",
    "    alpha = a\n",
    "\n",
    "    trials_RT = np.zeros(int(dur/dt))\n",
    "    trials_RT[0] = 10240\n",
    "\n",
    "    RT_arr = np.zeros(int(dur/dt))\n",
    "    RT_arr.fill(10240)\n",
    "    RT_arr[0] = 0\n",
    "\n",
    "    for i in prange(10240):\n",
    "\n",
    "        beta = 0\n",
    "        V1, V2 = S, S\n",
    "        pass_threshold = False\n",
    "\n",
    "        R1_arr = np.zeros(int(dur/dt))\n",
    "        R2_arr = np.zeros(int(dur/dt))\n",
    "        R1_arr[0] = ((alpha-1) + np.sqrt((1-alpha)**2 + 4*S*(w11+w12-beta))) / (2*(w11+w12-beta))\n",
    "        R2_arr[0] = ((alpha-1) + np.sqrt((1-alpha)**2 + 4*S*(w22+w21-beta))) / (2*(w22+w21-beta))\n",
    "\n",
    "        G1_arr = np.zeros(int(dur/dt))\n",
    "        G2_arr = np.zeros(int(dur/dt))\n",
    "        G1_arr[0], G2_arr[0] = (w11+w12-beta)*R1_arr[0], (w22+w21-beta)*R2_arr[0]\n",
    "\n",
    "        D1_arr = np.zeros(int(dur/dt))\n",
    "        D2_arr = np.zeros(int(dur/dt))\n",
    "        D1_arr[0], D2_arr[0] = beta*R1_arr[0], beta*R2_arr[0]\n",
    "\n",
    "        noise_R1 = np.zeros(int(dur/dt))\n",
    "        noise_R2 = np.zeros(int(dur/dt))\n",
    "        noise_G1 = np.zeros(int(dur/dt))\n",
    "        noise_G2 = np.zeros(int(dur/dt))\n",
    "        noise_D1 = np.zeros(int(dur/dt))\n",
    "        noise_D2 = np.zeros(int(dur/dt))\n",
    "\n",
    "        for ti in range(1, int(dur/dt)):\n",
    "\n",
    "            if ti == int(dip_time/dt):\n",
    "                    V1, V2 = S/3, S/3\n",
    "\n",
    "            if ti == bifurcate_time/dt:\n",
    "                    beta = b\n",
    "                    V1 = S*(1+coh)\n",
    "                    V2 = S*(1-coh)\n",
    "\n",
    "            if ti >= bifurcate_time/dt and ti % 5 == 0:\n",
    "                    V1 = S*(1+coh) + np.random.randn() * eta\n",
    "                    V2 = S*(1-coh) + np.random.randn() * eta\n",
    "\n",
    "            d_noiseR1 = (-noise_R1[ti-1] + np.random.randn() * np.sqrt(dt) * sgm) / noise_tau*dt\n",
    "            d_noiseR2 = (-noise_R2[ti-1] + np.random.randn() * np.sqrt(dt) * sgm) / noise_tau*dt\n",
    "            d_noiseG1 = (-noise_G1[ti-1] + np.random.randn() * np.sqrt(dt) * sgm) / noise_tau*dt\n",
    "            d_noiseG2 = (-noise_G2[ti-1] + np.random.randn() * np.sqrt(dt) * sgm) / noise_tau*dt\n",
    "            d_noiseD1 = (-noise_D1[ti-1] + np.random.randn() * np.sqrt(dt) * sgm) / noise_tau*dt\n",
    "            d_noiseD2 = (-noise_D2[ti-1] + np.random.randn() * np.sqrt(dt) * sgm) / noise_tau*dt\n",
    "\n",
    "            d_R1 = (-R1_arr[ti-1] + (alpha * R1_arr[ti-1] + V1) / (1 + G1_arr[ti-1])) * dt/tau\n",
    "            d_R2 = (-R2_arr[ti-1] + (alpha * R2_arr[ti-1] + V2) / (1 + G2_arr[ti-1])) * dt/tau\n",
    "            d_G1 = (-G1_arr[ti-1] + w11*R1_arr[ti-1] + w12*R2_arr[ti-1] - D1_arr[ti-1]) * dt/tau\n",
    "            d_G2 = (-G2_arr[ti-1] + w21*R1_arr[ti-1] + w22*R2_arr[ti-1] - D2_arr[ti-1]) * dt/tau\n",
    "            d_D1 = (-D1_arr[ti-1] + beta*R1_arr[ti-1]) *dt/tau\n",
    "            d_D2 = (-D2_arr[ti-1] + beta*R2_arr[ti-1]) *dt/tau\n",
    "\n",
    "            noise_R1[ti] = noise_R1[ti-1] + d_noiseR1\n",
    "            noise_R2[ti] = noise_R2[ti-1] + d_noiseR2\n",
    "            noise_G1[ti] = noise_G1[ti-1] + d_noiseG1\n",
    "            noise_G2[ti] = noise_G2[ti-1] + d_noiseG2\n",
    "            noise_D1[ti] = noise_D1[ti-1] + d_noiseD1\n",
    "            noise_D2[ti] = noise_D2[ti-1] + d_noiseD2\n",
    "\n",
    "            R1_arr[ti] = max(R1_arr[ti-1] + d_R1 + noise_R1[ti], 0)\n",
    "            R2_arr[ti] = max(R2_arr[ti-1] + d_R2 + noise_R2[ti], 0)\n",
    "            G1_arr[ti] = max(G1_arr[ti-1] + d_G1 + noise_G1[ti], 0)\n",
    "            G2_arr[ti] = max(G2_arr[ti-1] + d_G2 + noise_G2[ti], 0)\n",
    "            D1_arr[ti] = max(D1_arr[ti-1] + d_D1 + noise_D1[ti], 0)\n",
    "            D2_arr[ti] = max(D2_arr[ti-1] + d_D2 + noise_D2[ti], 0)\n",
    "\n",
    "            if not pass_threshold:\n",
    "                trials_RT[ti] += 1\n",
    "                RT_arr[ti] += R1_arr[ti]\n",
    "\n",
    "            if R1_arr[ti] > threshold and ti >= bifurcate_time/dt:\n",
    "                pass_threshold = True\n",
    "\n",
    "            elif R2_arr[ti] > threshold and ti >= bifurcate_time/dt:\n",
    "                pass_threshold = True\n",
    "\n",
    "    return np.divide(RT_arr, trials_RT), trials_RT"
   ],
   "metadata": {
    "collapsed": false,
    "pycharm": {
     "name": "#%%\n"
    }
   }
  },
  {
   "cell_type": "code",
   "execution_count": 24,
   "outputs": [],
   "source": [
    "def get_full_dynamic(a, b):\n",
    "\n",
    "    full_dynamic = [i for i in range(len(coh_lst_flat))]\n",
    "    for i, coh in enumerate(coh_lst_flat):\n",
    "        cur_dynamic, cur_RT = get_dynamic_arr(coh, a, b)\n",
    "\n",
    "        stop = 10240-1\n",
    "        for sec, trial_num in enumerate(cur_RT):\n",
    "                if trial_num < 10240/2:\n",
    "                    stop = sec\n",
    "                    break\n",
    "\n",
    "        full_dynamic[i] = cur_dynamic[:stop]\n",
    "\n",
    "    return full_dynamic"
   ],
   "metadata": {
    "collapsed": false,
    "pycharm": {
     "name": "#%%\n"
    }
   }
  },
  {
   "cell_type": "code",
   "execution_count": 19,
   "outputs": [],
   "source": [
    "def fitted_slope(a, b):\n",
    "    dynamic = get_full_dynamic(a, b)\n",
    "    dynamic.reverse()\n",
    "    slope_arr = [i for i in range(len(coh_lst_flat))]\n",
    "\n",
    "    lr = LinearRegression()\n",
    "    for i in range(len(coh_lst_flat)):\n",
    "        lr.fit(np.arange(0, len(dynamic[i][800:])/1000, .001).reshape(-1, 1), dynamic[i][800:])\n",
    "        slope_arr[i] = lr.coef_[0]\n",
    "\n",
    "    return slope_arr"
   ],
   "metadata": {
    "collapsed": false,
    "pycharm": {
     "name": "#%%\n"
    }
   }
  },
  {
   "cell_type": "code",
   "execution_count": 20,
   "outputs": [],
   "source": [
    "def plot_fitted_buildup_rate(slope_arr, c, l):\n",
    "    lr = LinearRegression()\n",
    "    coh_lst_flat_reverse = np.flip(coh_lst_flat)\n",
    "\n",
    "    lr.fit(coh_lst_flat_reverse.reshape(-1, 1), slope_arr)\n",
    "    fit_y = lr.predict(coh_lst_flat_reverse.reshape(-1, 1))\n",
    "    plt.plot(coh_lst_flat_reverse, slope_arr, 'o', color=c)\n",
    "    plt.plot(coh_lst_flat_reverse, fit_y, color=c, label=l)"
   ],
   "metadata": {
    "collapsed": false,
    "pycharm": {
     "name": "#%%\n"
    }
   }
  },
  {
   "cell_type": "code",
   "execution_count": 21,
   "outputs": [],
   "source": [
    "accuracy = fitted_slope(25, 1.2)\n",
    "speed = fitted_slope(25, 1.7)"
   ],
   "metadata": {
    "collapsed": false,
    "pycharm": {
     "name": "#%%\n"
    }
   }
  },
  {
   "cell_type": "code",
   "execution_count": 22,
   "outputs": [
    {
     "data": {
      "text/plain": "<Figure size 432x360 with 1 Axes>",
      "image/png": "[encoded data removed]"
     },
     "metadata": {
      "needs_background": "light"
     },
     "output_type": "display_data"
    }
   ],
   "source": [
    "plot_fitted_buildup_rate(accuracy, 'Black', 'Accuracy (α=25 β=1.2)')\n",
    "plot_fitted_buildup_rate(speed, 'Red', 'Speed (α=25 β=1.7)')\n",
    "plt.title(\"Buildup Rate with Initial Dip\")\n",
    "plt.xlabel(\"Motion Strength\")\n",
    "plt.ylabel(\"Buildup Rate (Hz/s)\")\n",
    "plt.legend()\n",
    "\n",
    "plt.gca().spines['top'].set_visible(False)\n",
    "plt.gca().spines['right'].set_visible(False)\n",
    "\n",
    "params = {'figure.figsize': (6, 5),\n",
    "        'legend.fontsize': 'x-large',\n",
    "         'axes.labelsize': 20,\n",
    "         'axes.titlesize': 20,\n",
    "         'xtick.labelsize': 20,\n",
    "         'ytick.labelsize':'x-large'}\n",
    "pylab.rcParams.update(params)\n",
    "\n",
    "plt.tight_layout()\n",
    "plt.savefig(\"Buildup Rate with Initial Dip.tiff\", format=\"tiff\")"
   ],
   "metadata": {
    "collapsed": false,
    "pycharm": {
     "name": "#%%\n"
    }
   }
  },
  {
   "cell_type": "code",
   "execution_count": null,
   "outputs": [],
   "source": [],
   "metadata": {
    "collapsed": false,
    "pycharm": {
     "name": "#%%\n"
    }
   }
  }
 ],
 "metadata": {
  "kernelspec": {
   "display_name": "Python 3",
   "language": "python",
   "name": "python3"
  },
  "language_info": {
   "codemirror_mode": {
    "name": "ipython",
    "version": 2
   },
   "file_extension": ".py",
   "mimetype": "text/x-python",
   "name": "python",
   "nbconvert_exporter": "python",
   "pygments_lexer": "ipython2",
   "version": "2.7.6"
  }
 },
 "nbformat": 4,
 "nbformat_minor": 0
}