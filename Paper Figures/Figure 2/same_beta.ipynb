{
 "cells": [
  {
   "cell_type": "code",
   "execution_count": 63,
   "outputs": [],
   "source": [
    "import numpy as np\n",
    "from numba import njit, prange\n",
    "from timeit import default_timer as timer\n",
    "import matplotlib\n",
    "from matplotlib import pylab\n",
    "from matplotlib import pyplot as plt\n",
    "from matplotlib.ticker import FormatStrFormatter"
   ],
   "metadata": {
    "collapsed": false,
    "pycharm": {
     "name": "#%%\n"
    },
    "ExecuteTime": {
     "end_time": "2023-10-26T19:48:51.609276400Z",
     "start_time": "2023-10-26T19:48:51.593622300Z"
    }
   }
  },
  {
   "cell_type": "code",
   "execution_count": 64,
   "outputs": [],
   "source": [
    "dt = .001\n",
    "tau = .1\n",
    "noise_tau = .002\n",
    "w11, w22 = 1, 1\n",
    "w21, w12 = 1, 1\n",
    "dur = 10\n",
    "sgm = 10\n",
    "threshold = 70\n",
    "S = 576\n",
    "R_initial = 32\n",
    "eta = S*.1"
   ],
   "metadata": {
    "collapsed": false,
    "pycharm": {
     "name": "#%%\n"
    },
    "ExecuteTime": {
     "end_time": "2023-10-26T19:48:52.345592500Z",
     "start_time": "2023-10-26T19:48:52.314323600Z"
    }
   }
  },
  {
   "cell_type": "code",
   "execution_count": 65,
   "outputs": [],
   "source": [
    "@njit(parallel=True, fastmath=True)\n",
    "def ave_choice(coh, a, b):\n",
    "\n",
    "    alpha = a\n",
    "    beta = b\n",
    "\n",
    "    #S = (w11+w12-beta) * R_initial**2 + (1-alpha) * R_initial\n",
    "    V1 = S*(1+coh)\n",
    "    V2 = S*(1-coh)\n",
    "\n",
    "    R1_arr = np.zeros(int(dur/dt))\n",
    "    R2_arr = np.zeros(int(dur/dt))\n",
    "    R1_arr[0], R2_arr[0] = R_initial, R_initial\n",
    "    # R1_arr[0] = ((alpha-1) + np.sqrt((1-alpha)**2 + 4*S*(w11+w12-beta))) / (2*(w11+w12-beta))\n",
    "    # R2_arr[0] = ((alpha-1) + np.sqrt((1-alpha)**2 + 4*S*(w22+w21-beta))) / (2*(w22+w21-beta))\n",
    "\n",
    "    G1_arr = np.zeros(int(dur/dt))\n",
    "    G2_arr = np.zeros(int(dur/dt))\n",
    "    G1_arr[0], G2_arr[0] = (w11+w12-beta)*R1_arr[0], (w22+w21-beta)*R2_arr[0]\n",
    "\n",
    "    D1_arr = np.zeros(int(dur/dt))\n",
    "    D2_arr = np.zeros(int(dur/dt))\n",
    "    D1_arr[0], D2_arr[0] = beta*R1_arr[0], beta*R2_arr[0]\n",
    "\n",
    "    noise_R1 = np.zeros(int(dur/dt))\n",
    "    noise_R2 = np.zeros(int(dur/dt))\n",
    "    noise_G1 = np.zeros(int(dur/dt))\n",
    "    noise_G2 = np.zeros(int(dur/dt))\n",
    "    noise_D1 = np.zeros(int(dur/dt))\n",
    "    noise_D2 = np.zeros(int(dur/dt))\n",
    "\n",
    "    reaction_time = np.zeros(10240)\n",
    "    choice = np.zeros(10240)\n",
    "\n",
    "    for i in prange(10240):\n",
    "\n",
    "        for ti in range(1, int(dur/dt)):\n",
    "\n",
    "            if ti % 5 == 0:\n",
    "                V1 = S*(1+coh) + np.random.randn() * eta\n",
    "                V2 = S*(1-coh) + np.random.randn() * eta\n",
    "\n",
    "            d_noiseR1 = (-noise_R1[ti-1] + np.random.randn() * np.sqrt(dt) * sgm) / noise_tau*dt\n",
    "            d_noiseR2 = (-noise_R2[ti-1] + np.random.randn() * np.sqrt(dt) * sgm) / noise_tau*dt\n",
    "            d_noiseG1 = (-noise_G1[ti-1] + np.random.randn() * np.sqrt(dt) * sgm) / noise_tau*dt\n",
    "            d_noiseG2 = (-noise_G2[ti-1] + np.random.randn() * np.sqrt(dt) * sgm) / noise_tau*dt\n",
    "            d_noiseD1 = (-noise_D1[ti-1] + np.random.randn() * np.sqrt(dt) * sgm) / noise_tau*dt\n",
    "            d_noiseD2 = (-noise_D2[ti-1] + np.random.randn() * np.sqrt(dt) * sgm) / noise_tau*dt\n",
    "\n",
    "            d_R1 = (-R1_arr[ti-1] + (alpha * R1_arr[ti-1] + V1) / (1 + G1_arr[ti-1])) * dt/tau\n",
    "            d_R2 = (-R2_arr[ti-1] + (alpha * R2_arr[ti-1] + V2) / (1 + G2_arr[ti-1])) * dt/tau\n",
    "            d_G1 = (-G1_arr[ti-1] + w11*R1_arr[ti-1] + w12*R2_arr[ti-1] - D1_arr[ti-1]) * dt/tau\n",
    "            d_G2 = (-G2_arr[ti-1] + w21*R1_arr[ti-1] + w22*R2_arr[ti-1] - D2_arr[ti-1]) * dt/tau\n",
    "            d_D1 = (-D1_arr[ti-1] + beta*R1_arr[ti-1]) *dt/tau\n",
    "            d_D2 = (-D2_arr[ti-1] + beta*R2_arr[ti-1]) *dt/tau\n",
    "\n",
    "            noise_R1[ti] = noise_R1[ti-1] + d_noiseR1\n",
    "            noise_R2[ti] = noise_R2[ti-1] + d_noiseR2\n",
    "            noise_G1[ti] = noise_G1[ti-1] + d_noiseG1\n",
    "            noise_G2[ti] = noise_G2[ti-1] + d_noiseG2\n",
    "            noise_D1[ti] = noise_D1[ti-1] + d_noiseD1\n",
    "            noise_D2[ti] = noise_D2[ti-1] + d_noiseD2\n",
    "\n",
    "            R1_arr[ti] = max(R1_arr[ti-1] + d_R1 + noise_R1[ti], 0)\n",
    "            R2_arr[ti] = max(R2_arr[ti-1] + d_R2 + noise_R2[ti], 0)\n",
    "            G1_arr[ti] = max(G1_arr[ti-1] + d_G1 + noise_G1[ti], 0)\n",
    "            G2_arr[ti] = max(G2_arr[ti-1] + d_G2 + noise_G2[ti], 0)\n",
    "            D1_arr[ti] = max(D1_arr[ti-1] + d_D1 + noise_D1[ti], 0)\n",
    "            D2_arr[ti] = max(D2_arr[ti-1] + d_D2 + noise_D2[ti], 0)\n",
    "\n",
    "            if R1_arr[ti] > threshold:\n",
    "                choice[i] = 1\n",
    "                reaction_time[i] = ti\n",
    "                break\n",
    "            elif R2_arr[ti] > threshold:\n",
    "                reaction_time[i] = ti\n",
    "                break\n",
    "            elif ti == dur/dt-1:\n",
    "                reaction_time[i] = np.NAN\n",
    "                choice[i] = np.NAN\n",
    "\n",
    "    return reaction_time, choice\n"
   ],
   "metadata": {
    "collapsed": false,
    "pycharm": {
     "name": "#%%\n"
    },
    "ExecuteTime": {
     "end_time": "2023-10-26T19:48:53.180307700Z",
     "start_time": "2023-10-26T19:48:53.023304100Z"
    }
   }
  },
  {
   "cell_type": "code",
   "execution_count": 74,
   "outputs": [],
   "source": [
    "alpha1, alpha2, alpha3, alpha4, alpha5, alpha6 = 0, 10, 20, 30, 40, 50\n",
    "beta = 1.2\n",
    "a1_reaction_time, a1_choice = np.zeros(1000), np.zeros(1000)\n",
    "a2_reaction_time, a2_choice = np.zeros(1000), np.zeros(1000)\n",
    "a3_reaction_time, a3_choice = np.zeros(1000), np.zeros(1000)\n",
    "a4_reaction_time, a4_choice = np.zeros(1000), np.zeros(1000)\n",
    "a5_reaction_time, a5_choice = np.zeros(1000), np.zeros(1000)\n",
    "a6_reaction_time, a6_choice = np.zeros(1000), np.zeros(1000)"
   ],
   "metadata": {
    "collapsed": false,
    "pycharm": {
     "name": "#%%\n"
    },
    "ExecuteTime": {
     "end_time": "2023-10-26T20:02:42.546657Z",
     "start_time": "2023-10-26T20:02:42.531043200Z"
    }
   }
  },
  {
   "cell_type": "code",
   "execution_count": 75,
   "outputs": [
    {
     "name": "stdout",
     "output_type": "stream",
     "text": [
      "[EPOCH]: 999"
     ]
    }
   ],
   "source": [
    "start = timer()\n",
    "for coh in range(-500, 500):\n",
    "    a1_b1_RT, a1_b1_c = ave_choice(coh / 1000, alpha1, beta)\n",
    "    a1_reaction_time[coh + 500], a1_choice[coh + 500] = np.nanmean(a1_b1_RT) * dt, np.nanmean(a1_b1_c)\n",
    "\n",
    "    a2_b1_RT, a2_b1_c = ave_choice(coh / 1000, alpha2, beta)\n",
    "    a2_reaction_time[coh + 500], a2_choice[coh + 500] = np.nanmean(a2_b1_RT) * dt, np.nanmean(a2_b1_c)\n",
    "\n",
    "    a3_b1_RT, a3_b1_c = ave_choice(coh / 1000, alpha3, beta)\n",
    "    a3_reaction_time[coh + 500], a3_choice[coh + 500] = np.nanmean(a3_b1_RT) * dt, np.nanmean(a3_b1_c)\n",
    "\n",
    "    a4_b1_RT, a4_b1_c = ave_choice(coh / 1000, alpha4, beta)\n",
    "    a4_reaction_time[coh + 500], a4_choice[coh + 500] = np.nanmean(a4_b1_RT) * dt, np.nanmean(a4_b1_c)\n",
    "\n",
    "    a5_b1_RT, a5_b1_c = ave_choice(coh / 1000, alpha5, beta)\n",
    "    a5_reaction_time[coh + 500], a5_choice[coh + 500] = np.nanmean(a5_b1_RT) * dt, np.nanmean(a5_b1_c)\n",
    "\n",
    "    a6_b1_RT, a6_b1_c = ave_choice(coh / 1000, alpha6, beta)\n",
    "    a6_reaction_time[coh + 500], a6_choice[coh + 500] = np.nanmean(a6_b1_RT) * dt, np.nanmean(a6_b1_c)\n",
    "\n",
    "    print(\"\\r[EPOCH]: %d\" % (coh+500), end='')\n",
    "end = timer()-start"
   ],
   "metadata": {
    "collapsed": false,
    "pycharm": {
     "name": "#%%\n"
    },
    "ExecuteTime": {
     "end_time": "2023-10-26T20:14:05.194103300Z",
     "start_time": "2023-10-26T20:02:43.172757600Z"
    }
   }
  },
  {
   "cell_type": "code",
   "execution_count": 76,
   "outputs": [],
   "source": [
    "x_axis = np.zeros(1000)\n",
    "for ind, coh in enumerate(range(-500, 500)):\n",
    "    x_axis[ind] = 2*S*coh/1000\n",
    "\n",
    "parameters = [-10, alpha1, alpha2, alpha3, alpha4, alpha5, alpha6]\n",
    "norm = matplotlib.colors.Normalize(vmin=np.min(parameters), vmax=np.max(parameters))\n",
    "\n",
    "c_m = plt.cm.get_cmap('BuPu')\n",
    "s_m = matplotlib.cm.ScalarMappable(cmap=c_m, norm=norm)"
   ],
   "metadata": {
    "collapsed": false,
    "pycharm": {
     "name": "#%%\n"
    },
    "ExecuteTime": {
     "end_time": "2023-10-26T20:15:37.250732Z",
     "start_time": "2023-10-26T20:15:37.235141800Z"
    }
   }
  },
  {
   "cell_type": "code",
   "execution_count": 90,
   "outputs": [],
   "source": [
    "def draw_RT():\n",
    "    plt.plot(x_axis, a1_reaction_time, color=s_m.to_rgba(parameters[1]))\n",
    "    plt.plot(x_axis, a2_reaction_time, color=s_m.to_rgba(parameters[2]))\n",
    "    plt.plot(x_axis, a3_reaction_time, color=s_m.to_rgba(parameters[3]))\n",
    "    plt.plot(x_axis, a4_reaction_time, color=s_m.to_rgba(parameters[4]))\n",
    "    plt.plot(x_axis, a5_reaction_time, color=s_m.to_rgba(parameters[5]))\n",
    "    plt.plot(x_axis, a6_reaction_time, color=s_m.to_rgba(parameters[6]))\n",
    "\n",
    "    plt.title(\"Speed\")\n",
    "    plt.xlabel(\"Input difference\")\n",
    "    plt.ylabel(\"Reaction Time (s)\")\n",
    "\n",
    "    ax = plt.gca()\n",
    "    ax.xaxis.set_ticks(np.arange(-500, 501, 250))\n",
    "\n",
    "    ax.tick_params(axis='x', direction=\"in\")\n",
    "    ax.tick_params(axis=\"y\", direction=\"in\")\n",
    "    ax.tick_params(bottom=True, left=True)\n",
    "    ax.spines['bottom'].set_color('0')\n",
    "    ax.spines['left'].set_color('0')\n",
    "    ax.patch.set_facecolor('white')\n",
    "    ax.spines['top'].set_visible(False)\n",
    "    ax.spines['right'].set_visible(False)\n",
    "\n",
    "    font_size = 20\n",
    "    params = {'figure.figsize': (7, 6),\n",
    "             'legend.fontsize': font_size,\n",
    "             'axes.labelsize': font_size,\n",
    "             'axes.titlesize': font_size,\n",
    "             'xtick.labelsize': font_size,\n",
    "             'ytick.labelsize': font_size}\n",
    "    pylab.rcParams.update(params)\n",
    "\n",
    "    fig = ax.figure\n",
    "    cbar_ax = fig.add_axes([1, 0.25, 0.05, 0.5])\n",
    "    plt.grid(False)\n",
    "    bar = fig.colorbar(s_m, cax=cbar_ax)\n",
    "\n",
    "    #plt.savefig(\"beta_RT.tiff\", format=\"tiff\", bbox_inches='tight')\n",
    "    plt.savefig(\"graphs/changing_alpha_RT.eps\", format=\"eps\", bbox_inches='tight')"
   ],
   "metadata": {
    "collapsed": false,
    "pycharm": {
     "name": "#%%\n"
    },
    "ExecuteTime": {
     "end_time": "2023-10-26T20:25:28.286699700Z",
     "start_time": "2023-10-26T20:25:28.286699700Z"
    }
   }
  },
  {
   "cell_type": "code",
   "execution_count": 91,
   "outputs": [
    {
     "data": {
      "text/plain": "<Figure size 504x432 with 2 Axes>",
      "image/png": "[encoded data removed]"
     },
     "metadata": {
      "needs_background": "light"
     },
     "output_type": "display_data"
    }
   ],
   "source": [
    "draw_RT()"
   ],
   "metadata": {
    "collapsed": false,
    "pycharm": {
     "name": "#%%\n"
    },
    "ExecuteTime": {
     "end_time": "2023-10-26T20:25:29.592810100Z",
     "start_time": "2023-10-26T20:25:29.292512700Z"
    }
   }
  },
  {
   "cell_type": "code",
   "execution_count": 1,
   "outputs": [],
   "source": [
    "def draw_choice():\n",
    "    plt.plot(x_axis, a1_choice, color=s_m.to_rgba(parameters[1]))\n",
    "    plt.plot(x_axis, a2_choice, color=s_m.to_rgba(parameters[2]))\n",
    "    plt.plot(x_axis, a3_choice, color=s_m.to_rgba(parameters[3]))\n",
    "    plt.plot(x_axis, a4_choice, color=s_m.to_rgba(parameters[4]))\n",
    "    plt.plot(x_axis, a5_choice, color=s_m.to_rgba(parameters[5]))\n",
    "    plt.plot(x_axis, a6_choice, color=s_m.to_rgba(parameters[6]))\n",
    "\n",
    "    plt.title(\"Accuracy\")\n",
    "    plt.xlabel(\"Input difference\")\n",
    "    plt.ylabel(\"p(chosen option 1)\")\n",
    "    ax = plt.gca()\n",
    "    ax.xaxis.set_ticks(np.arange(-500, 501, 250))\n",
    "    ax.yaxis.set_ticks(np.arange(0, 1.25, .25))\n",
    "    ax.yaxis.set_major_formatter(FormatStrFormatter('%.2f'))\n",
    "\n",
    "    ax.tick_params(axis='x', direction=\"in\")\n",
    "    ax.tick_params(axis=\"y\", direction=\"in\")\n",
    "    ax.tick_params(bottom=True, left=True)\n",
    "    ax.spines['bottom'].set_color('0')\n",
    "    ax.spines['left'].set_color('0')\n",
    "    ax.patch.set_facecolor('white')\n",
    "    ax.spines['top'].set_visible(False)\n",
    "    ax.spines['right'].set_visible(False)\n",
    "\n",
    "    font_size = 20\n",
    "    params = {'figure.figsize': (7, 6),\n",
    "             'legend.fontsize': font_size,\n",
    "             'axes.labelsize': font_size,\n",
    "             'axes.titlesize': font_size,\n",
    "             'xtick.labelsize': font_size,\n",
    "             'ytick.labelsize': font_size\n",
    "              }\n",
    "    pylab.rcParams.update(params)\n",
    "\n",
    "    fig = ax.figure\n",
    "    cbar_ax = fig.add_axes([1, 0.25, 0.05, 0.5])\n",
    "    plt.grid(False)\n",
    "    fig.colorbar(s_m, cax=cbar_ax)\n",
    "\n",
    "    #plt.savefig(\"beta_choice.tiff\", format=\"tiff\", bbox_inches='tight')\n",
    "    plt.savefig(\"graphs/changing_alpha_choice.eps\", format=\"eps\", bbox_inches='tight')"
   ],
   "metadata": {
    "collapsed": false,
    "pycharm": {
     "name": "#%%\n"
    },
    "ExecuteTime": {
     "end_time": "2023-10-27T19:27:27.629848600Z",
     "start_time": "2023-10-27T19:27:27.614191700Z"
    }
   }
  },
  {
   "cell_type": "code",
   "execution_count": null,
   "outputs": [],
   "source": [
    "draw_choice()"
   ],
   "metadata": {
    "collapsed": false,
    "pycharm": {
     "name": "#%%\n"
    }
   }
  },
  {
   "cell_type": "code",
   "execution_count": null,
   "outputs": [],
   "source": [],
   "metadata": {
    "collapsed": false
   }
  }
 ],
 "metadata": {
  "kernelspec": {
   "display_name": "Python 3",
   "language": "python",
   "name": "python3"
  },
  "language_info": {
   "codemirror_mode": {
    "name": "ipython",
    "version": 2
   },
   "file_extension": ".py",
   "mimetype": "text/x-python",
   "name": "python",
   "nbconvert_exporter": "python",
   "pygments_lexer": "ipython2",
   "version": "2.7.6"
  }
 },
 "nbformat": 4,
 "nbformat_minor": 0
}
