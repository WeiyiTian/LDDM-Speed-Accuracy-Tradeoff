{
 "cells": [
  {
   "cell_type": "code",
   "execution_count": 2,
   "id": "initial_id",
   "metadata": {
    "collapsed": true,
    "ExecuteTime": {
     "end_time": "2023-11-21T22:09:18.338911100Z",
     "start_time": "2023-11-21T22:09:18.040854400Z"
    }
   },
   "outputs": [],
   "source": [
    "import numpy as np\n",
    "from numba import njit, prange\n",
    "import matplotlib\n",
    "from matplotlib import pylab\n",
    "from matplotlib import pyplot as plt"
   ]
  },
  {
   "cell_type": "markdown",
   "source": [
    "### Simulation"
   ],
   "metadata": {
    "collapsed": false
   },
   "id": "abb37e8424c5dfa4"
  },
  {
   "cell_type": "code",
   "execution_count": 3,
   "outputs": [],
   "source": [
    "dt = .001\n",
    "tau = .1\n",
    "noise_tau = .002\n",
    "w11, w22 = 1, 1\n",
    "w21, w12 = 1, 1\n",
    "dur = 10\n",
    "sgm = 10\n",
    "threshold = 70\n",
    "S = 576\n",
    "R_initial = 32\n",
    "eta = S*.1"
   ],
   "metadata": {
    "collapsed": false,
    "ExecuteTime": {
     "end_time": "2023-11-21T22:09:18.354520100Z",
     "start_time": "2023-11-21T22:09:18.338911100Z"
    }
   },
   "id": "8838108aada0b3da"
  },
  {
   "cell_type": "code",
   "execution_count": 4,
   "outputs": [],
   "source": [
    "@njit(parallel=True, fastmath=True)\n",
    "def ave_choice(coh, a, b):\n",
    "\n",
    "    alpha = a\n",
    "    beta = b\n",
    "\n",
    "    #S = (w11+w12-beta) * R_initial**2 + (1-alpha) * R_initial\n",
    "    V1 = S*(1+coh)\n",
    "    V2 = S*(1-coh)\n",
    "\n",
    "    R1_arr = np.zeros(int(dur/dt))\n",
    "    R2_arr = np.zeros(int(dur/dt))\n",
    "    R1_arr[0], R2_arr[0] = R_initial, R_initial\n",
    "    # R1_arr[0] = ((alpha-1) + np.sqrt((1-alpha)**2 + 4*S*(w11+w12-beta))) / (2*(w11+w12-beta))\n",
    "    # R2_arr[0] = ((alpha-1) + np.sqrt((1-alpha)**2 + 4*S*(w22+w21-beta))) / (2*(w22+w21-beta))\n",
    "\n",
    "    G1_arr = np.zeros(int(dur/dt))\n",
    "    G2_arr = np.zeros(int(dur/dt))\n",
    "    G1_arr[0], G2_arr[0] = (w11+w12-beta)*R1_arr[0], (w22+w21-beta)*R2_arr[0]\n",
    "\n",
    "    D1_arr = np.zeros(int(dur/dt))\n",
    "    D2_arr = np.zeros(int(dur/dt))\n",
    "    D1_arr[0], D2_arr[0] = beta*R1_arr[0], beta*R2_arr[0]\n",
    "\n",
    "    noise_R1 = np.zeros(int(dur/dt))\n",
    "    noise_R2 = np.zeros(int(dur/dt))\n",
    "    noise_G1 = np.zeros(int(dur/dt))\n",
    "    noise_G2 = np.zeros(int(dur/dt))\n",
    "    noise_D1 = np.zeros(int(dur/dt))\n",
    "    noise_D2 = np.zeros(int(dur/dt))\n",
    "\n",
    "    reaction_time = np.zeros(10240)\n",
    "    choice = np.zeros(10240)\n",
    "\n",
    "    for i in prange(10240):\n",
    "\n",
    "        for ti in range(1, int(dur/dt)):\n",
    "\n",
    "            if ti % 5 == 0:\n",
    "                V1 = S*(1+coh) + np.random.randn() * eta\n",
    "                V2 = S*(1-coh) + np.random.randn() * eta\n",
    "\n",
    "            d_noiseR1 = (-noise_R1[ti-1] + np.random.randn() * np.sqrt(dt) * sgm) / noise_tau*dt\n",
    "            d_noiseR2 = (-noise_R2[ti-1] + np.random.randn() * np.sqrt(dt) * sgm) / noise_tau*dt\n",
    "            d_noiseG1 = (-noise_G1[ti-1] + np.random.randn() * np.sqrt(dt) * sgm) / noise_tau*dt\n",
    "            d_noiseG2 = (-noise_G2[ti-1] + np.random.randn() * np.sqrt(dt) * sgm) / noise_tau*dt\n",
    "            d_noiseD1 = (-noise_D1[ti-1] + np.random.randn() * np.sqrt(dt) * sgm) / noise_tau*dt\n",
    "            d_noiseD2 = (-noise_D2[ti-1] + np.random.randn() * np.sqrt(dt) * sgm) / noise_tau*dt\n",
    "\n",
    "            d_R1 = (-R1_arr[ti-1] + (alpha * R1_arr[ti-1] + V1) / (1 + G1_arr[ti-1])) * dt/tau\n",
    "            d_R2 = (-R2_arr[ti-1] + (alpha * R2_arr[ti-1] + V2) / (1 + G2_arr[ti-1])) * dt/tau\n",
    "            d_G1 = (-G1_arr[ti-1] + w11*R1_arr[ti-1] + w12*R2_arr[ti-1] - D1_arr[ti-1]) * dt/tau\n",
    "            d_G2 = (-G2_arr[ti-1] + w21*R1_arr[ti-1] + w22*R2_arr[ti-1] - D2_arr[ti-1]) * dt/tau\n",
    "            d_D1 = (-D1_arr[ti-1] + beta*R1_arr[ti-1]) *dt/tau\n",
    "            d_D2 = (-D2_arr[ti-1] + beta*R2_arr[ti-1]) *dt/tau\n",
    "\n",
    "            noise_R1[ti] = noise_R1[ti-1] + d_noiseR1\n",
    "            noise_R2[ti] = noise_R2[ti-1] + d_noiseR2\n",
    "            noise_G1[ti] = noise_G1[ti-1] + d_noiseG1\n",
    "            noise_G2[ti] = noise_G2[ti-1] + d_noiseG2\n",
    "            noise_D1[ti] = noise_D1[ti-1] + d_noiseD1\n",
    "            noise_D2[ti] = noise_D2[ti-1] + d_noiseD2\n",
    "\n",
    "            R1_arr[ti] = max(R1_arr[ti-1] + d_R1 + noise_R1[ti], 0)\n",
    "            R2_arr[ti] = max(R2_arr[ti-1] + d_R2 + noise_R2[ti], 0)\n",
    "            G1_arr[ti] = max(G1_arr[ti-1] + d_G1 + noise_G1[ti], 0)\n",
    "            G2_arr[ti] = max(G2_arr[ti-1] + d_G2 + noise_G2[ti], 0)\n",
    "            D1_arr[ti] = max(D1_arr[ti-1] + d_D1 + noise_D1[ti], 0)\n",
    "            D2_arr[ti] = max(D2_arr[ti-1] + d_D2 + noise_D2[ti], 0)\n",
    "\n",
    "            if R1_arr[ti] > threshold:\n",
    "                choice[i] = 1\n",
    "                reaction_time[i] = ti\n",
    "                break\n",
    "            elif R2_arr[ti] > threshold:\n",
    "                reaction_time[i] = ti\n",
    "                break\n",
    "            elif ti == dur/dt-1:\n",
    "                reaction_time[i] = np.NAN\n",
    "                choice[i] = np.NAN\n",
    "\n",
    "    return reaction_time, choice"
   ],
   "metadata": {
    "collapsed": false,
    "ExecuteTime": {
     "end_time": "2023-11-21T22:09:18.792912700Z",
     "start_time": "2023-11-21T22:09:18.745626500Z"
    }
   },
   "id": "2333477b0e9963b4"
  },
  {
   "cell_type": "markdown",
   "source": [
    "### Plotting"
   ],
   "metadata": {
    "collapsed": false
   },
   "id": "9a37f0ab23b59996"
  },
  {
   "cell_type": "code",
   "execution_count": 35,
   "outputs": [],
   "source": [
    "def plot_dist(s_alpha_rt, l_alpha_rt):\n",
    "    num_bins = 4\n",
    "    perc = 70\n",
    "    x_lim = np.nanpercentile(np.concatenate((s_alpha_rt, l_alpha_rt)), 99.5)\n",
    "    \n",
    "    gap = (np.percentile(l_alpha_rt, perc) - np.percentile(l_alpha_rt, 100 - perc)) / num_bins\n",
    "    bins = np.arange(np.nanmin(np.concatenate((s_alpha_rt, l_alpha_rt))),\n",
    "                     np.nanmax(np.concatenate((s_alpha_rt, l_alpha_rt))) + gap, gap)\n",
    "    \n",
    "    s_alpha_count, _ = np.histogram(s_alpha_rt, bins=bins)\n",
    "    l_alpha_count, _ = np.histogram(l_alpha_rt, bins=bins)\n",
    "    bins_center = (bins + gap/2)[:-1]\n",
    "    \n",
    "    plt.plot(bins_center, s_alpha_count, color='#86A3B8', label=f'α={alpha1}, β={beta}')\n",
    "    plt.plot(bins_center, l_alpha_count, color='#BD574E', label=f'α={alpha2}, β={beta}')\n",
    "    \n",
    "    plt.xlabel(\"Reaction Time (s)\")\n",
    "    plt.ylabel(\"Frequency\")\n",
    "    plt.xlim((0, x_lim))\n",
    "    \n",
    "    ax = plt.gca()\n",
    "    ax.spines['bottom'].set_color('0')\n",
    "    ax.spines['left'].set_color('0')\n",
    "    ax.tick_params(bottom=True, left=True)\n",
    "    \n",
    "    font_size = 15\n",
    "    params = {\n",
    "         'figure.figsize': (4, 4),\n",
    "         'legend.fontsize': font_size,\n",
    "         'xtick.labelsize': font_size,\n",
    "         'ytick.labelsize': font_size,\n",
    "         'axes.labelsize': font_size,\n",
    "         'axes.facecolor': 'white',\n",
    "         'patch.linewidth': 0\n",
    "    }\n",
    "    pylab.rcParams.update(params)\n",
    "    plt.tight_layout()\n",
    "    plt.legend()\n",
    "\n",
    "    plt.savefig(f'graphs/changing_alpha_dist.tiff', format='tiff', bbox_inches='tight')"
   ],
   "metadata": {
    "collapsed": false,
    "ExecuteTime": {
     "end_time": "2023-11-21T22:21:31.676823500Z",
     "start_time": "2023-11-21T22:21:31.661250700Z"
    }
   },
   "id": "bdb0e8bbd17438ed"
  },
  {
   "cell_type": "code",
   "execution_count": 24,
   "outputs": [],
   "source": [
    "beta = 0.9\n",
    "alpha1, alpha2 = 0, 50\n",
    "a1_b_RT, _ = ave_choice(.256, alpha1, beta)\n",
    "a2_b_RT, _ = ave_choice(.256, alpha2, beta)\n",
    "a1_b_RT, a2_b_RT = a1_b_RT / 1000, a2_b_RT / 1000"
   ],
   "metadata": {
    "collapsed": false,
    "ExecuteTime": {
     "start_time": "2023-11-21T22:19:08.560953900Z"
    }
   },
   "id": "140cf00ec4a15f0a"
  },
  {
   "cell_type": "code",
   "execution_count": 36,
   "outputs": [
    {
     "data": {
      "text/plain": "<Figure size 288x288 with 1 Axes>",
      "image/png": "[encoded data removed]"
     },
     "metadata": {
      "needs_background": "light"
     },
     "output_type": "display_data"
    }
   ],
   "source": [
    "plot_dist(a1_b_RT, a2_b_RT)"
   ],
   "metadata": {
    "collapsed": false,
    "ExecuteTime": {
     "start_time": "2023-11-21T22:21:32.085494400Z"
    }
   },
   "id": "5f6eb7ae29fe7234"
  },
  {
   "cell_type": "code",
   "execution_count": null,
   "outputs": [],
   "source": [],
   "metadata": {
    "collapsed": false
   },
   "id": "180af5bd2176332c"
  }
 ],
 "metadata": {
  "kernelspec": {
   "display_name": "Python 3",
   "language": "python",
   "name": "python3"
  },
  "language_info": {
   "codemirror_mode": {
    "name": "ipython",
    "version": 2
   },
   "file_extension": ".py",
   "mimetype": "text/x-python",
   "name": "python",
   "nbconvert_exporter": "python",
   "pygments_lexer": "ipython2",
   "version": "2.7.6"
  }
 },
 "nbformat": 4,
 "nbformat_minor": 5
}
