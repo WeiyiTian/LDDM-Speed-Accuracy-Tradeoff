{
 "cells": [
  {
   "cell_type": "code",
   "execution_count": 53,
   "id": "initial_id",
   "metadata": {
    "collapsed": true,
    "ExecuteTime": {
     "end_time": "2023-11-21T22:09:34.122781500Z",
     "start_time": "2023-11-21T22:09:34.090696500Z"
    }
   },
   "outputs": [],
   "source": [
    "import numpy as np\n",
    "from numba import njit, prange\n",
    "import matplotlib\n",
    "from matplotlib import pylab\n",
    "from matplotlib import pyplot as plt"
   ]
  },
  {
   "cell_type": "markdown",
   "source": [
    "### Simulation"
   ],
   "metadata": {
    "collapsed": false
   },
   "id": "8d7e049b26c790b9"
  },
  {
   "cell_type": "code",
   "execution_count": 2,
   "outputs": [],
   "source": [
    "dt = .001\n",
    "tau = .1\n",
    "noise_tau = .002\n",
    "w11, w22 = 1, 1\n",
    "w21, w12 = 1, 1\n",
    "dur = 10\n",
    "sgm = 10\n",
    "threshold = 70\n",
    "S = 576\n",
    "R_initial = 32\n",
    "eta = S*.1"
   ],
   "metadata": {
    "collapsed": false,
    "ExecuteTime": {
     "end_time": "2023-11-21T21:12:01.111891600Z",
     "start_time": "2023-11-21T21:12:01.091766800Z"
    }
   },
   "id": "8838108aada0b3da"
  },
  {
   "cell_type": "code",
   "execution_count": 3,
   "outputs": [],
   "source": [
    "@njit(parallel=True, fastmath=True)\n",
    "def ave_choice(coh, a, b):\n",
    "\n",
    "    alpha = a\n",
    "    beta = b\n",
    "\n",
    "    #S = (w11+w12-beta) * R_initial**2 + (1-alpha) * R_initial\n",
    "    V1 = S*(1+coh)\n",
    "    V2 = S*(1-coh)\n",
    "\n",
    "    R1_arr = np.zeros(int(dur/dt))\n",
    "    R2_arr = np.zeros(int(dur/dt))\n",
    "    R1_arr[0], R2_arr[0] = R_initial, R_initial\n",
    "    # R1_arr[0] = ((alpha-1) + np.sqrt((1-alpha)**2 + 4*S*(w11+w12-beta))) / (2*(w11+w12-beta))\n",
    "    # R2_arr[0] = ((alpha-1) + np.sqrt((1-alpha)**2 + 4*S*(w22+w21-beta))) / (2*(w22+w21-beta))\n",
    "\n",
    "    G1_arr = np.zeros(int(dur/dt))\n",
    "    G2_arr = np.zeros(int(dur/dt))\n",
    "    G1_arr[0], G2_arr[0] = (w11+w12-beta)*R1_arr[0], (w22+w21-beta)*R2_arr[0]\n",
    "\n",
    "    D1_arr = np.zeros(int(dur/dt))\n",
    "    D2_arr = np.zeros(int(dur/dt))\n",
    "    D1_arr[0], D2_arr[0] = beta*R1_arr[0], beta*R2_arr[0]\n",
    "\n",
    "    noise_R1 = np.zeros(int(dur/dt))\n",
    "    noise_R2 = np.zeros(int(dur/dt))\n",
    "    noise_G1 = np.zeros(int(dur/dt))\n",
    "    noise_G2 = np.zeros(int(dur/dt))\n",
    "    noise_D1 = np.zeros(int(dur/dt))\n",
    "    noise_D2 = np.zeros(int(dur/dt))\n",
    "\n",
    "    reaction_time = np.zeros(10240)\n",
    "    choice = np.zeros(10240)\n",
    "\n",
    "    for i in prange(10240):\n",
    "\n",
    "        for ti in range(1, int(dur/dt)):\n",
    "\n",
    "            if ti % 5 == 0:\n",
    "                V1 = S*(1+coh) + np.random.randn() * eta\n",
    "                V2 = S*(1-coh) + np.random.randn() * eta\n",
    "\n",
    "            d_noiseR1 = (-noise_R1[ti-1] + np.random.randn() * np.sqrt(dt) * sgm) / noise_tau*dt\n",
    "            d_noiseR2 = (-noise_R2[ti-1] + np.random.randn() * np.sqrt(dt) * sgm) / noise_tau*dt\n",
    "            d_noiseG1 = (-noise_G1[ti-1] + np.random.randn() * np.sqrt(dt) * sgm) / noise_tau*dt\n",
    "            d_noiseG2 = (-noise_G2[ti-1] + np.random.randn() * np.sqrt(dt) * sgm) / noise_tau*dt\n",
    "            d_noiseD1 = (-noise_D1[ti-1] + np.random.randn() * np.sqrt(dt) * sgm) / noise_tau*dt\n",
    "            d_noiseD2 = (-noise_D2[ti-1] + np.random.randn() * np.sqrt(dt) * sgm) / noise_tau*dt\n",
    "\n",
    "            d_R1 = (-R1_arr[ti-1] + (alpha * R1_arr[ti-1] + V1) / (1 + G1_arr[ti-1])) * dt/tau\n",
    "            d_R2 = (-R2_arr[ti-1] + (alpha * R2_arr[ti-1] + V2) / (1 + G2_arr[ti-1])) * dt/tau\n",
    "            d_G1 = (-G1_arr[ti-1] + w11*R1_arr[ti-1] + w12*R2_arr[ti-1] - D1_arr[ti-1]) * dt/tau\n",
    "            d_G2 = (-G2_arr[ti-1] + w21*R1_arr[ti-1] + w22*R2_arr[ti-1] - D2_arr[ti-1]) * dt/tau\n",
    "            d_D1 = (-D1_arr[ti-1] + beta*R1_arr[ti-1]) *dt/tau\n",
    "            d_D2 = (-D2_arr[ti-1] + beta*R2_arr[ti-1]) *dt/tau\n",
    "\n",
    "            noise_R1[ti] = noise_R1[ti-1] + d_noiseR1\n",
    "            noise_R2[ti] = noise_R2[ti-1] + d_noiseR2\n",
    "            noise_G1[ti] = noise_G1[ti-1] + d_noiseG1\n",
    "            noise_G2[ti] = noise_G2[ti-1] + d_noiseG2\n",
    "            noise_D1[ti] = noise_D1[ti-1] + d_noiseD1\n",
    "            noise_D2[ti] = noise_D2[ti-1] + d_noiseD2\n",
    "\n",
    "            R1_arr[ti] = max(R1_arr[ti-1] + d_R1 + noise_R1[ti], 0)\n",
    "            R2_arr[ti] = max(R2_arr[ti-1] + d_R2 + noise_R2[ti], 0)\n",
    "            G1_arr[ti] = max(G1_arr[ti-1] + d_G1 + noise_G1[ti], 0)\n",
    "            G2_arr[ti] = max(G2_arr[ti-1] + d_G2 + noise_G2[ti], 0)\n",
    "            D1_arr[ti] = max(D1_arr[ti-1] + d_D1 + noise_D1[ti], 0)\n",
    "            D2_arr[ti] = max(D2_arr[ti-1] + d_D2 + noise_D2[ti], 0)\n",
    "\n",
    "            if R1_arr[ti] > threshold:\n",
    "                choice[i] = 1\n",
    "                reaction_time[i] = ti\n",
    "                break\n",
    "            elif R2_arr[ti] > threshold:\n",
    "                reaction_time[i] = ti\n",
    "                break\n",
    "            elif ti == dur/dt-1:\n",
    "                reaction_time[i] = np.NAN\n",
    "                choice[i] = np.NAN\n",
    "\n",
    "    return reaction_time, choice"
   ],
   "metadata": {
    "collapsed": false,
    "ExecuteTime": {
     "end_time": "2023-11-21T21:12:50.452451500Z",
     "start_time": "2023-11-21T21:12:50.295761900Z"
    }
   },
   "id": "2333477b0e9963b4"
  },
  {
   "cell_type": "code",
   "execution_count": 57,
   "outputs": [],
   "source": [
    "alpha = 0\n",
    "beta1, beta2 = 0.9, 1.5\n",
    "a_b1_RT, _ = ave_choice(.256, alpha, beta1)\n",
    "a_b2_RT, _ = ave_choice(.256, alpha, beta2)\n",
    "a_b1_RT, a_b2_RT = a_b1_RT / 1000, a_b2_RT / 1000"
   ],
   "metadata": {
    "collapsed": false,
    "ExecuteTime": {
     "end_time": "2023-11-21T22:19:01.369775100Z",
     "start_time": "2023-11-21T22:18:59.589985200Z"
    }
   },
   "id": "140cf00ec4a15f0a"
  },
  {
   "cell_type": "markdown",
   "source": [
    "### Plotting"
   ],
   "metadata": {
    "collapsed": false
   },
   "id": "5387f7df60aab65c"
  },
  {
   "cell_type": "code",
   "execution_count": 60,
   "outputs": [],
   "source": [
    "def plot_dist(s_beta_rt, l_beta_rt):\n",
    "    num_bins = 4\n",
    "    perc = 70\n",
    "    x_lim = np.nanpercentile(np.concatenate((s_beta_rt, l_beta_rt)), 99.5)\n",
    "    \n",
    "    gap = (np.percentile(l_beta_rt, perc) - np.percentile(l_beta_rt, 100-perc)) / num_bins\n",
    "    bins = np.arange(np.nanmin(np.concatenate((s_beta_rt, l_beta_rt))), \n",
    "                     np.nanmax(np.concatenate((s_beta_rt, l_beta_rt)))+gap, gap)\n",
    "    \n",
    "    s_beta_count, _ = np.histogram(s_beta_rt, bins=bins)\n",
    "    l_beta_count, _ = np.histogram(l_beta_rt, bins=bins)\n",
    "    bins_center = (bins + gap/2)[:-1]\n",
    "    \n",
    "    plt.plot(bins_center, s_beta_count, color='#86A3B8', label=f'α={alpha}, β={beta1}')\n",
    "    plt.plot(bins_center, l_beta_count, color='#BD574E', label=f'α={alpha}, β={beta2}')\n",
    "    \n",
    "    plt.xlabel(\"Reaction Time (s)\")\n",
    "    plt.ylabel(\"Frequency\")\n",
    "    plt.xlim((0, x_lim))\n",
    "    \n",
    "    ax = plt.gca()\n",
    "    ax.spines['bottom'].set_color('0')\n",
    "    ax.spines['left'].set_color('0')\n",
    "    ax.tick_params(bottom=True, left=True)\n",
    "    \n",
    "    font_size = 15\n",
    "    params = {\n",
    "         'figure.figsize': (4, 4),\n",
    "         'legend.fontsize': font_size,\n",
    "         'xtick.labelsize': font_size,\n",
    "         'ytick.labelsize': font_size,\n",
    "         'axes.labelsize': font_size,\n",
    "         'axes.facecolor': 'white',\n",
    "         'patch.linewidth': 0\n",
    "    }\n",
    "    pylab.rcParams.update(params)\n",
    "    plt.tight_layout()\n",
    "    plt.legend()\n",
    "\n",
    "    plt.savefig(f'graphs/changing_beta_dist.tiff', format='tiff', bbox_inches='tight')"
   ],
   "metadata": {
    "collapsed": false,
    "ExecuteTime": {
     "end_time": "2023-11-21T22:21:48.082916100Z",
     "start_time": "2023-11-21T22:21:48.067255100Z"
    }
   },
   "id": "14cf0f6dacf7659e"
  },
  {
   "cell_type": "code",
   "execution_count": 61,
   "outputs": [
    {
     "data": {
      "text/plain": "<Figure size 288x288 with 1 Axes>",
      "image/png": "[encoded data removed]"
     },
     "metadata": {},
     "output_type": "display_data"
    }
   ],
   "source": [
    "plot_dist(a_b1_RT, a_b2_RT)"
   ],
   "metadata": {
    "collapsed": false,
    "ExecuteTime": {
     "end_time": "2023-11-21T22:21:48.768341200Z",
     "start_time": "2023-11-21T22:21:48.386736800Z"
    }
   },
   "id": "11f6b62ff03a0a88"
  },
  {
   "cell_type": "code",
   "execution_count": null,
   "outputs": [],
   "source": [],
   "metadata": {
    "collapsed": false
   },
   "id": "f3999761758bd9f4"
  }
 ],
 "metadata": {
  "kernelspec": {
   "display_name": "Python 3",
   "language": "python",
   "name": "python3"
  },
  "language_info": {
   "codemirror_mode": {
    "name": "ipython",
    "version": 2
   },
   "file_extension": ".py",
   "mimetype": "text/x-python",
   "name": "python",
   "nbconvert_exporter": "python",
   "pygments_lexer": "ipython2",
   "version": "2.7.6"
  }
 },
 "nbformat": 4,
 "nbformat_minor": 5
}
