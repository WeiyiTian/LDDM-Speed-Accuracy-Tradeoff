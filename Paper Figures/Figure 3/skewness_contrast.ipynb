{
 "cells": [
  {
   "cell_type": "code",
   "execution_count": 53,
   "id": "initial_id",
   "metadata": {
    "collapsed": true,
    "ExecuteTime": {
     "end_time": "2023-10-31T22:20:28.410276500Z",
     "start_time": "2023-10-31T22:20:28.410276500Z"
    }
   },
   "outputs": [],
   "source": [
    "import matplotlib\n",
    "import matplotlib.pyplot as plt\n",
    "from matplotlib import pylab\n",
    "import scipy.io\n",
    "from scipy import stats as ss\n",
    "import numpy as np"
   ]
  },
  {
   "cell_type": "markdown",
   "source": [
    "### Data Loading"
   ],
   "metadata": {
    "collapsed": false
   },
   "id": "b845c3772bab22f6"
  },
  {
   "cell_type": "code",
   "execution_count": 7,
   "outputs": [],
   "source": [
    "D_emp = scipy.io.loadmat('../Monkey D/behavData_dam.mat')\n",
    "E_emp = scipy.io.loadmat('../Monkey E/behavData_eli.mat')\n",
    "\n",
    "D_emp_acc_coh = D_emp['task']['data'][0, 1]['coh'][0, 0]\n",
    "D_emp_acc_rt = D_emp['task']['data'][0, 1]['rt'][0, 0] / 1000\n",
    "\n",
    "D_emp_speed_coh = D_emp['task']['data'][0, 0]['coh'][0, 0]\n",
    "D_emp_speed_rt = D_emp['task']['data'][0, 0]['rt'][0, 0] / 1000\n",
    "\n",
    "E_emp_acc_coh = E_emp['task']['data'][0, 1]['coh'][0, 0]\n",
    "E_emp_acc_rt = E_emp['task']['data'][0, 1]['rt'][0, 0] / 1000\n",
    "\n",
    "E_emp_speed_coh = E_emp['task']['data'][0, 0]['coh'][0, 0]\n",
    "E_emp_speed_rt = E_emp['task']['data'][0, 0]['rt'][0, 0] / 1000\n",
    "\n",
    "coh_lst = np.sort(np.unique(D_emp_acc_coh))"
   ],
   "metadata": {
    "collapsed": false,
    "ExecuteTime": {
     "end_time": "2023-10-31T21:43:17.056929100Z",
     "start_time": "2023-10-31T21:43:17.041323300Z"
    }
   },
   "id": "b1b1c130e64b3ac"
  },
  {
   "cell_type": "markdown",
   "source": [
    "### Calculation"
   ],
   "metadata": {
    "collapsed": false
   },
   "id": "be74375b597e144b"
  },
  {
   "cell_type": "code",
   "execution_count": 16,
   "outputs": [],
   "source": [
    "D_acc_skew = np.zeros(len(coh_lst))\n",
    "D_speed_skew = np.zeros(len(coh_lst))\n",
    "E_acc_skew = np.zeros(len(coh_lst))\n",
    "E_speed_skew = np.zeros(len(coh_lst))"
   ],
   "metadata": {
    "collapsed": false,
    "ExecuteTime": {
     "end_time": "2023-10-31T21:49:59.636923100Z",
     "start_time": "2023-10-31T21:49:59.621321600Z"
    }
   },
   "id": "91dc8f64d91d48d"
  },
  {
   "cell_type": "code",
   "execution_count": 19,
   "outputs": [],
   "source": [
    "for i in range(len(coh_lst)):\n",
    "    D_acc_skew[i] = ss.skew(D_emp_acc_rt[D_emp_acc_coh == coh_lst[i]])\n",
    "    D_speed_skew[i] = ss.skew(D_emp_speed_rt[D_emp_speed_coh == coh_lst[i]])\n",
    "    E_acc_skew[i] = ss.skew(E_emp_acc_rt[E_emp_acc_coh == coh_lst[i]])\n",
    "    E_speed_skew[i] = ss.skew(E_emp_speed_rt[E_emp_speed_coh == coh_lst[i]])"
   ],
   "metadata": {
    "collapsed": false,
    "ExecuteTime": {
     "end_time": "2023-10-31T21:50:04.092783200Z",
     "start_time": "2023-10-31T21:50:04.077159300Z"
    }
   },
   "id": "674c8dd7140c250"
  },
  {
   "cell_type": "markdown",
   "source": [
    "### Plotting"
   ],
   "metadata": {
    "collapsed": false
   },
   "id": "7e3ddb688f435272"
  },
  {
   "cell_type": "code",
   "execution_count": 106,
   "outputs": [],
   "source": [
    "parameters = np.arange(0, 7)\n",
    "    #np.insert(coh_lst, 0, -.05))\n",
    "norm = matplotlib.colors.Normalize(vmin=np.min(parameters), vmax=np.max(parameters))\n",
    "\n",
    "c_m = plt.cm.get_cmap('GnBu')\n",
    "s_m = matplotlib.cm.ScalarMappable(cmap=c_m, norm=norm)"
   ],
   "metadata": {
    "collapsed": false,
    "ExecuteTime": {
     "end_time": "2023-10-31T22:52:41.015283800Z",
     "start_time": "2023-10-31T22:52:40.999630400Z"
    }
   },
   "id": "c1baec8f88b80f2"
  },
  {
   "cell_type": "code",
   "execution_count": 137,
   "outputs": [],
   "source": [
    "def scatter_skew(acc_skew, speed_skew, monkey):\n",
    "    fig = plt.figure(figsize=(3.25, 3))\n",
    "    ax = plt.gca()\n",
    "    ax_max = max(np.concatenate((acc_skew, speed_skew)))\n",
    "\n",
    "    for i in range(len(coh_lst)):\n",
    "        plt.scatter(acc_skew[i], speed_skew[i], color=s_m.to_rgba(parameters[i+1]))\n",
    "    plt.plot([0, ax_max], [0, ax_max], color='#8D8DAA', linestyle='--')\n",
    "    \n",
    "    plt.xlabel(\"Accuracy Condition\")\n",
    "    plt.ylabel(\"Speed Condition\")\n",
    "    # ax.set_xlim(0, ax_max+.1)\n",
    "    # ax.set_ylim(0, ax_max+.1)\n",
    "    plt.axis('equal')\n",
    "    \n",
    "    ax.spines['bottom'].set_color('0')\n",
    "    ax.spines['left'].set_color('0')\n",
    "    ax.tick_params(bottom=True, left=True)\n",
    "    \n",
    "    font_size = 15\n",
    "    params = {\n",
    "         'legend.fontsize': font_size,\n",
    "         'axes.labelsize': font_size,\n",
    "         'axes.titlesize': font_size,\n",
    "         'xtick.labelsize': font_size,\n",
    "         'ytick.labelsize': font_size,\n",
    "         'axes.facecolor': 'white',\n",
    "    }\n",
    "    pylab.rcParams.update(params)\n",
    "    fig.tight_layout()\n",
    "    \n",
    "    cbar_ax = fig.add_axes([1, 0.3, 0.05, 0.5])\n",
    "    plt.grid(False)\n",
    "    bar = fig.colorbar(s_m, cax=cbar_ax)\n",
    "\n",
    "    plt.savefig(f'graphs/{monkey}_skewness.tiff', format='tiff', bbox_inches='tight')"
   ],
   "metadata": {
    "collapsed": false,
    "ExecuteTime": {
     "end_time": "2023-10-31T23:22:35.755537300Z",
     "start_time": "2023-10-31T23:22:35.739915800Z"
    }
   },
   "id": "5f31dd846174e763"
  },
  {
   "cell_type": "code",
   "execution_count": 138,
   "outputs": [
    {
     "data": {
      "text/plain": "<Figure size 234x216 with 2 Axes>",
      "image/png": "[encoded data removed]"
     },
     "metadata": {},
     "output_type": "display_data"
    }
   ],
   "source": [
    "scatter_skew(D_acc_skew, D_speed_skew, 'D')"
   ],
   "metadata": {
    "collapsed": false,
    "ExecuteTime": {
     "end_time": "2023-10-31T23:22:36.567374400Z",
     "start_time": "2023-10-31T23:22:36.100321600Z"
    }
   },
   "id": "c8bb5532a760ff6"
  },
  {
   "cell_type": "code",
   "execution_count": 139,
   "outputs": [
    {
     "data": {
      "text/plain": "<Figure size 234x216 with 2 Axes>",
      "image/png": "[encoded data removed]"
     },
     "metadata": {},
     "output_type": "display_data"
    }
   ],
   "source": [
    "scatter_skew(E_acc_skew, E_speed_skew, 'E')"
   ],
   "metadata": {
    "collapsed": false,
    "ExecuteTime": {
     "end_time": "2023-10-31T23:22:38.691036600Z",
     "start_time": "2023-10-31T23:22:38.248610Z"
    }
   },
   "id": "deb5700138bf0338"
  },
  {
   "cell_type": "code",
   "execution_count": null,
   "outputs": [],
   "source": [],
   "metadata": {
    "collapsed": false
   },
   "id": "d491bb79bf4d7fac"
  }
 ],
 "metadata": {
  "kernelspec": {
   "display_name": "Python 3",
   "language": "python",
   "name": "python3"
  },
  "language_info": {
   "codemirror_mode": {
    "name": "ipython",
    "version": 2
   },
   "file_extension": ".py",
   "mimetype": "text/x-python",
   "name": "python",
   "nbconvert_exporter": "python",
   "pygments_lexer": "ipython2",
   "version": "2.7.6"
  }
 },
 "nbformat": 4,
 "nbformat_minor": 5
}
