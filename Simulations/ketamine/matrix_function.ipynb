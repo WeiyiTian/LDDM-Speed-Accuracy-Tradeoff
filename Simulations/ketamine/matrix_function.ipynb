{
 "cells": [
  {
   "cell_type": "code",
   "execution_count": 1,
   "outputs": [],
   "source": [
    "import numpy as np\n",
    "\n",
    "from matplotlib import pyplot as plt\n",
    "\n",
    "from numba import njit, prange"
   ],
   "metadata": {
    "collapsed": false,
    "pycharm": {
     "name": "#%%\n"
    }
   }
  },
  {
   "cell_type": "code",
   "execution_count": 2,
   "outputs": [],
   "source": [
    "dt = .001\n",
    "tau = .1\n",
    "noise_tau = .002\n",
    "dur = 10\n",
    "bifurcate_time = .8\n",
    "sgm = 10\n",
    "threshold = 70\n",
    "S = 500\n",
    "R_initial = 32\n",
    "eta = S*.1"
   ],
   "metadata": {
    "collapsed": false,
    "pycharm": {
     "name": "#%%\n"
    }
   }
  },
  {
   "cell_type": "code",
   "execution_count": 29,
   "outputs": [],
   "source": [
    "@njit(parallel=True, fastmath=True)\n",
    "def ave_choice(coh, a, b, V_size):\n",
    "\n",
    "    alpha = a\n",
    "\n",
    "    beta = 0\n",
    "    V_matrix = np.zeros(V_size)\n",
    "    V_matrix.fill(S)\n",
    "\n",
    "    omega_matrix = np.zeros((V_size, V_size))\n",
    "    omega_matrix.fill(1)\n",
    "\n",
    "    R_matrix = np.zeros((V_size, int(dur/dt)))\n",
    "    G_matrix = np.zeros((V_size, int(dur/dt)))\n",
    "    D_matrix = np.zeros((V_size, int(dur/dt)))\n",
    "\n",
    "    R_matrix[:, 0] = ((alpha-1) + np.sqrt((1-alpha)**2 + 4*S*(np.sum(omega_matrix, axis=1)-beta))) / (2*(np.sum(omega_matrix, axis=1)-beta))\n",
    "    G_matrix[:, 0] = (np.sum(omega_matrix, axis=1) - beta) * R_matrix[:, 0]\n",
    "    D_matrix[:, 0] = beta * R_matrix[:, 0]\n",
    "\n",
    "    noise_R = np.zeros((V_size, int(dur/dt)))\n",
    "    noise_G = np.zeros((V_size, int(dur/dt)))\n",
    "    noise_D = np.zeros((V_size, int(dur/dt)))\n",
    "\n",
    "    rep = 10240\n",
    "    reaction_time = np.zeros(rep)\n",
    "    choice = np.zeros(rep)\n",
    "\n",
    "    for i in prange(rep):\n",
    "\n",
    "        beta = 0\n",
    "        V_matrix.fill(S)\n",
    "\n",
    "        for ti in range(1, int(dur/dt)):\n",
    "\n",
    "            if ti == bifurcate_time/dt:\n",
    "                beta = b\n",
    "                V_matrix[0] = S * (1+coh)\n",
    "                V_matrix[1:] = S * (1-coh)\n",
    "\n",
    "            if ti >= bifurcate_time/dt and ti % 5 == 0:\n",
    "                V_matrix[0] = S * (1+coh) + np.random.randn() * eta\n",
    "                V_matrix[1:] = S * (1-coh) + np.random.randn() * eta\n",
    "\n",
    "            d_noise_R = (-noise_R[:, ti-1] + np.random.randn(V_size) * np.sqrt(dt) * sgm) / noise_tau*dt\n",
    "            d_noise_G = (-noise_G[:, ti-1] + np.random.randn(V_size) * np.sqrt(dt) * sgm) / noise_tau*dt\n",
    "            d_noise_D = (-noise_D[:, ti-1] + np.random.randn(V_size) * np.sqrt(dt) * sgm) / noise_tau*dt\n",
    "\n",
    "            d_R = (-R_matrix[:, ti-1] + (alpha * R_matrix[:, ti-1] + V_matrix) / (1+G_matrix[:, ti-1])) * dt/tau\n",
    "            d_G = (-G_matrix[:, ti-1] - D_matrix[:, ti-1] + omega_matrix @ R_matrix[:, ti-1])* dt/tau\n",
    "            d_D = (-D_matrix[:, ti-1] + beta * R_matrix[:, ti-1]) * dt/tau\n",
    "\n",
    "            noise_R[:, ti] = noise_R[:, ti-1] + d_noise_R\n",
    "            noise_G[:, ti] = noise_G[:, ti-1] + d_noise_G\n",
    "            noise_D[:, ti] = noise_D[:, ti-1] + d_noise_D\n",
    "\n",
    "            R_matrix[:, ti] = np.maximum(R_matrix[:, ti-1] + d_R + noise_R[:, ti], 0)\n",
    "            G_matrix[:, ti] = np.maximum(G_matrix[:, ti-1] + d_G + noise_G[:, ti], 0)\n",
    "            D_matrix[:, ti] = np.maximum(D_matrix[:, ti-1] + d_D + noise_D[:, ti], 0)\n",
    "\n",
    "            if R_matrix[0, ti] > threshold and ti >= bifurcate_time/dt:\n",
    "                choice[i] = 1\n",
    "                reaction_time[i] = ti - bifurcate_time/dt\n",
    "                break\n",
    "            elif R_matrix[1, ti] > threshold and ti >= bifurcate_time/dt:\n",
    "                reaction_time[i] = ti - bifurcate_time/dt\n",
    "                break\n",
    "            elif ti == dur/dt-1:\n",
    "                reaction_time[i] = np.NAN\n",
    "                choice[i] = np.NAN\n",
    "\n",
    "    return reaction_time, choice"
   ],
   "metadata": {
    "collapsed": false,
    "pycharm": {
     "name": "#%%\n"
    }
   }
  },
  {
   "cell_type": "code",
   "execution_count": 30,
   "outputs": [],
   "source": [
    "def get_RT_choice(a, b):\n",
    "    RT, choice = np.zeros(50), np.zeros(50)\n",
    "    for coh in range(50):\n",
    "        cur_RT, cur_choice = ave_choice(coh / 100, a, b, 2)\n",
    "        RT[coh], choice[coh] = np.nanmean(cur_RT)*dt, np.nanmean(cur_choice)\n",
    "        print(\"\\r[EPOCH]: %d\" % coh, end='')\n",
    "    print(\"\\r\", end='')\n",
    "    return RT, choice"
   ],
   "metadata": {
    "collapsed": false,
    "pycharm": {
     "name": "#%%\n"
    }
   }
  },
  {
   "cell_type": "code",
   "execution_count": 31,
   "outputs": [
    {
     "name": "stderr",
     "output_type": "stream",
     "text": [
      "C:\\Users\\weiyi\\AppData\\Local\\Temp\\ipykernel_24840\\2333509173.py:50: NumbaPerformanceWarning: \u001B[1m\u001B[1m'@' is faster on contiguous arrays, called on (array(float64, 2d, C), array(float64, 1d, A))\u001B[0m\u001B[0m\n",
      "  d_G = (-G_matrix[:, ti-1] - D_matrix[:, ti-1] + omega_matrix @ R_matrix[:, ti-1])* dt/tau\n",
      "C:\\Users\\weiyi\\AppData\\Local\\Temp\\ipykernel_24840\\2333509173.py:50: NumbaPerformanceWarning: \u001B[1m\u001B[1m'@' is faster on contiguous arrays, called on (array(float64, 2d, C), array(float64, 1d, A))\u001B[0m\u001B[0m\n",
      "  d_G = (-G_matrix[:, ti-1] - D_matrix[:, ti-1] + omega_matrix @ R_matrix[:, ti-1])* dt/tau\n",
      "C:\\Users\\weiyi\\anaconda3\\envs\\week4\\lib\\site-packages\\numba\\core\\typing\\npydecl.py:965: NumbaPerformanceWarning: \u001B[1m'@' is faster on contiguous arrays, called on (array(float64, 2d, C), array(float64, 1d, A))\u001B[0m\n",
      "  warnings.warn(NumbaPerformanceWarning(msg))\n"
     ]
    },
    {
     "name": "stdout",
     "output_type": "stream",
     "text": [
      "[EPOCH]: 49\r"
     ]
    }
   ],
   "source": [
    "rt1, cho1 = get_RT_choice(25, 1.2)\n",
    "rt2, cho2 = get_RT_choice(25, 1.7)"
   ],
   "metadata": {
    "collapsed": false,
    "pycharm": {
     "name": "#%%\n"
    }
   }
  },
  {
   "cell_type": "code",
   "execution_count": 32,
   "outputs": [
    {
     "data": {
      "text/plain": "<Figure size 432x288 with 1 Axes>",
      "image/png": "[encoded data removed]"
     },
     "metadata": {
      "needs_background": "light"
     },
     "output_type": "display_data"
    }
   ],
   "source": [
    "plt.plot(rt1)\n",
    "plt.plot(rt2)\n",
    "plt.show()"
   ],
   "metadata": {
    "collapsed": false,
    "pycharm": {
     "name": "#%%\n"
    }
   }
  },
  {
   "cell_type": "code",
   "execution_count": 33,
   "outputs": [
    {
     "name": "stdout",
     "output_type": "stream",
     "text": [
      "[0.4921875  0.54335937 0.60039062 0.64238281 0.68994141 0.73554688\n",
      " 0.77509766 0.80986328 0.83789062 0.86132812 0.89853516 0.92167969\n",
      " 0.93359375 0.94931641 0.96376953 0.97041016 0.97626953 0.98144531\n",
      " 0.98955078 0.99140625 0.99277344 0.99677734 0.99667969 0.99863281\n",
      " 0.99824219 0.99804688 0.99912109 0.99980469 0.99990234 0.99980469\n",
      " 1.         1.         1.         1.         1.         1.\n",
      " 1.         1.         0.99990234 1.         1.         1.\n",
      " 1.         1.         1.         1.         1.         1.\n",
      " 1.         1.        ]\n"
     ]
    },
    {
     "data": {
      "text/plain": "<Figure size 432x288 with 1 Axes>",
      "image/png": "[encoded data removed]"
     },
     "metadata": {
      "needs_background": "light"
     },
     "output_type": "display_data"
    }
   ],
   "source": [
    "plt.plot(cho1)\n",
    "plt.plot(cho2)\n",
    "plt.show()"
   ],
   "metadata": {
    "collapsed": false,
    "pycharm": {
     "name": "#%%\n"
    }
   }
  },
  {
   "cell_type": "code",
   "execution_count": null,
   "outputs": [],
   "source": [],
   "metadata": {
    "collapsed": false,
    "pycharm": {
     "name": "#%%\n"
    }
   }
  }
 ],
 "metadata": {
  "kernelspec": {
   "display_name": "Python 3",
   "language": "python",
   "name": "python3"
  },
  "language_info": {
   "codemirror_mode": {
    "name": "ipython",
    "version": 2
   },
   "file_extension": ".py",
   "mimetype": "text/x-python",
   "name": "python",
   "nbconvert_exporter": "python",
   "pygments_lexer": "ipython2",
   "version": "2.7.6"
  }
 },
 "nbformat": 4,
 "nbformat_minor": 0
}