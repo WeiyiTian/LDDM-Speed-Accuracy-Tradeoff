{
 "cells": [
  {
   "cell_type": "code",
   "execution_count": 1,
   "outputs": [],
   "source": [
    "import numpy as np\n",
    "\n",
    "from matplotlib import pyplot as plt\n",
    "\n",
    "from numba import njit, prange"
   ],
   "metadata": {
    "collapsed": false,
    "pycharm": {
     "name": "#%%\n"
    }
   }
  },
  {
   "cell_type": "code",
   "execution_count": 64,
   "outputs": [],
   "source": [
    "dt = .001\n",
    "tau = .1\n",
    "noise_tau = .002\n",
    "dur = 5\n",
    "bifurcate_time = .8\n",
    "sgm = 5\n",
    "threshold = 70\n",
    "S = 10\n",
    "R_initial = 32\n",
    "eta = S*.03\n",
    "ini_V2 = 10.6"
   ],
   "metadata": {
    "collapsed": false,
    "pycharm": {
     "name": "#%%\n"
    }
   }
  },
  {
   "cell_type": "code",
   "execution_count": 56,
   "outputs": [],
   "source": [
    "V1_arr = np.array([10.9, 11.2, 11.9, 13.4, 16.7, 20.4, 24.5, 45.2, 76.6])\n",
    "difference = V1_arr - ini_V2"
   ],
   "metadata": {
    "collapsed": false,
    "pycharm": {
     "name": "#%%\n"
    }
   }
  },
  {
   "cell_type": "code",
   "execution_count": 57,
   "outputs": [],
   "source": [
    "@njit(parallel=True, fastmath=True)\n",
    "def get_RT_choice(diff, a, b, V_size):\n",
    "\n",
    "    alpha = a\n",
    "\n",
    "    reaction_time = np.zeros(10240)\n",
    "    choice = np.zeros(10240)\n",
    "\n",
    "    for i in prange(10240):\n",
    "\n",
    "        beta = 0\n",
    "        V_matrix = np.zeros(V_size)\n",
    "        V_matrix.fill(S * ini_V2)\n",
    "\n",
    "        omega_matrix = np.zeros((V_size, V_size))\n",
    "        omega_matrix.fill(1)\n",
    "\n",
    "        R_matrix = np.zeros((V_size, int(dur/dt)))\n",
    "        G_matrix = np.zeros((V_size, int(dur/dt)))\n",
    "        D_matrix = np.zeros((V_size, int(dur/dt)))\n",
    "\n",
    "        R_matrix[:, 0] = ((alpha-1) + np.sqrt((1-alpha)**2 + 4*S*(np.sum(omega_matrix, axis=1)-beta))) / (2*(np.sum(omega_matrix, axis=1)-beta))\n",
    "        G_matrix[:, 0] = (np.sum(omega_matrix, axis=1) - beta) * R_matrix[:, 0]\n",
    "        D_matrix[:, 0] = beta * R_matrix[:, 0]\n",
    "\n",
    "        noise_R = np.zeros((V_size, int(dur/dt)))\n",
    "        noise_G = np.zeros((V_size, int(dur/dt)))\n",
    "        noise_D = np.zeros((V_size, int(dur/dt)))\n",
    "\n",
    "        for ti in range(1, int(dur/dt)):\n",
    "\n",
    "            if ti == bifurcate_time/dt:\n",
    "                beta = b\n",
    "                V_matrix[0] = S * (ini_V2 + diff)\n",
    "                V_matrix[1:] = S * ini_V2\n",
    "\n",
    "            if ti >= bifurcate_time/dt and ti % 5 == 0:\n",
    "                V_matrix[0] = S * (ini_V2 + diff) + np.random.randn() * eta\n",
    "                V_matrix[1:] = S * ini_V2 + np.random.randn(V_size-1) * eta\n",
    "\n",
    "            d_noise_R = (-noise_R[:, ti-1] + np.random.randn(V_size) * np.sqrt(dt) * sgm) / noise_tau*dt\n",
    "            d_noise_G = (-noise_G[:, ti-1] + np.random.randn(V_size) * np.sqrt(dt) * sgm) / noise_tau*dt\n",
    "            d_noise_D = (-noise_D[:, ti-1] + np.random.randn(V_size) * np.sqrt(dt) * sgm) / noise_tau*dt\n",
    "\n",
    "            d_R = (-R_matrix[:, ti-1] + (alpha * R_matrix[:, ti-1] + V_matrix) / (1+G_matrix[:, ti-1])) * dt/tau\n",
    "            d_G = (-G_matrix[:, ti-1] - D_matrix[:, ti-1] + omega_matrix @ R_matrix[:, ti-1])* dt/tau\n",
    "            d_D = (-D_matrix[:, ti-1] + beta * R_matrix[:, ti-1]) * dt/tau\n",
    "\n",
    "            noise_R[:, ti] = noise_R[:, ti-1] + d_noise_R\n",
    "            noise_G[:, ti] = noise_G[:, ti-1] + d_noise_G\n",
    "            noise_D[:, ti] = noise_D[:, ti-1] + d_noise_D\n",
    "\n",
    "            R_matrix[:, ti] = np.maximum(R_matrix[:, ti-1] + d_R + noise_R[:, ti], 0)\n",
    "            G_matrix[:, ti] = np.maximum(G_matrix[:, ti-1] + d_G + noise_G[:, ti], 0)\n",
    "            D_matrix[:, ti] = np.maximum(D_matrix[:, ti-1] + d_D + noise_D[:, ti], 0)\n",
    "\n",
    "            if R_matrix[0, ti] > threshold and ti >= bifurcate_time/dt:\n",
    "                choice[i] = 1\n",
    "                reaction_time[i] = ti - bifurcate_time/dt\n",
    "                break\n",
    "            elif True in (R_matrix[:, ti] > threshold) and ti >= bifurcate_time/dt:\n",
    "                reaction_time[i] = ti - bifurcate_time/dt\n",
    "                break\n",
    "            elif ti == dur/dt-1:\n",
    "                reaction_time[i] = np.NAN\n",
    "                choice[i] = np.NAN\n",
    "\n",
    "    return reaction_time, choice"
   ],
   "metadata": {
    "collapsed": false,
    "pycharm": {
     "name": "#%%\n"
    }
   }
  },
  {
   "cell_type": "code",
   "execution_count": 58,
   "outputs": [],
   "source": [
    "def get_RT_choice_arr(a, b):\n",
    "    RT_arr = np.zeros(len(V1_arr))\n",
    "    choice_arr = np.zeros(len(V1_arr))\n",
    "    for ind, diff in enumerate(difference):\n",
    "        cur_RT, cur_choice = get_RT_choice(diff, a, b, 8)\n",
    "        RT_arr[ind], choice_arr[ind] = np.nanmean(cur_RT), np.nanmean(cur_choice)\n",
    "    return RT_arr, choice_arr"
   ],
   "metadata": {
    "collapsed": false,
    "pycharm": {
     "name": "#%%\n"
    }
   }
  },
  {
   "cell_type": "code",
   "execution_count": 59,
   "outputs": [
    {
     "name": "stderr",
     "output_type": "stream",
     "text": [
      "C:\\Users\\weiyi\\AppData\\Local\\Temp\\ipykernel_16392\\3574095078.py:46: NumbaPerformanceWarning: \u001B[1m\u001B[1m'@' is faster on contiguous arrays, called on (array(float64, 2d, C), array(float64, 1d, A))\u001B[0m\u001B[0m\n",
      "  d_G = (-G_matrix[:, ti-1] - D_matrix[:, ti-1] + omega_matrix @ R_matrix[:, ti-1])* dt/tau\n",
      "C:\\Users\\weiyi\\AppData\\Local\\Temp\\ipykernel_16392\\3574095078.py:46: NumbaPerformanceWarning: \u001B[1m\u001B[1m'@' is faster on contiguous arrays, called on (array(float64, 2d, C), array(float64, 1d, A))\u001B[0m\u001B[0m\n",
      "  d_G = (-G_matrix[:, ti-1] - D_matrix[:, ti-1] + omega_matrix @ R_matrix[:, ti-1])* dt/tau\n",
      "C:\\Users\\weiyi\\anaconda3\\envs\\week4\\lib\\site-packages\\numba\\core\\typing\\npydecl.py:965: NumbaPerformanceWarning: \u001B[1m'@' is faster on contiguous arrays, called on (array(float64, 2d, C), array(float64, 1d, A))\u001B[0m\n",
      "  warnings.warn(NumbaPerformanceWarning(msg))\n"
     ]
    },
    {
     "name": "stdout",
     "output_type": "stream",
     "text": [
      "[2839.45047868 2816.07293299 2808.75317575 2609.93300365 1757.02688172\n",
      " 1273.42705078 1019.19091797  609.43359375  430.09277344]\n",
      "[0.17632724 0.2489121  0.45296671 0.80230778 0.98572825 0.99980469\n",
      " 1.         1.         1.        ]\n"
     ]
    }
   ],
   "source": [
    "control_RT, control_choice = get_RT_choice_arr(25, 1.7)"
   ],
   "metadata": {
    "collapsed": false,
    "pycharm": {
     "name": "#%%\n"
    }
   }
  },
  {
   "cell_type": "code",
   "execution_count": 60,
   "outputs": [],
   "source": [
    "def draw_RT_choice(a, b):\n",
    "    control_RT, control_choice = get_RT_choice_arr(a, b)\n",
    "\n",
    "    fig, (RT_ax, choice_ax) = plt.subplots(2, 1, figsize=(5, 8), sharex=True)\n",
    "    RT_ax.plot(difference, control_RT, '-o', label=\"control\")\n",
    "    choice_ax.plot(difference, control_choice, '-o', label=\"control\")\n",
    "\n",
    "    choice_ax.set_xlim(.1, 100)\n",
    "    choice_ax.set_xlabel(\"Luminance Difference (cd/$m^2$)\")\n",
    "    choice_ax.set_xscale('log')\n",
    "\n",
    "    choice_ax.set_ylabel(\"Accuracy (proportion correct)\")\n",
    "    RT_ax.set_ylabel(\"Response Latency (ms)\")\n",
    "\n",
    "    choice_ax.legend()"
   ],
   "metadata": {
    "collapsed": false,
    "pycharm": {
     "name": "#%%\n"
    }
   }
  },
  {
   "cell_type": "code",
   "execution_count": 62,
   "outputs": [
    {
     "data": {
      "text/plain": "<Figure size 360x576 with 2 Axes>",
      "image/png": "[encoded data removed]"
     },
     "metadata": {
      "needs_background": "light"
     },
     "output_type": "display_data"
    }
   ],
   "source": [
    "draw_RT_choice(25, 1.7)"
   ],
   "metadata": {
    "collapsed": false,
    "pycharm": {
     "name": "#%%\n"
    }
   }
  },
  {
   "cell_type": "code",
   "execution_count": null,
   "outputs": [],
   "source": [],
   "metadata": {
    "collapsed": false,
    "pycharm": {
     "name": "#%%\n"
    }
   }
  }
 ],
 "metadata": {
  "kernelspec": {
   "display_name": "Python 3",
   "language": "python",
   "name": "python3"
  },
  "language_info": {
   "codemirror_mode": {
    "name": "ipython",
    "version": 2
   },
   "file_extension": ".py",
   "mimetype": "text/x-python",
   "name": "python",
   "nbconvert_exporter": "python",
   "pygments_lexer": "ipython2",
   "version": "2.7.6"
  }
 },
 "nbformat": 4,
 "nbformat_minor": 0
}