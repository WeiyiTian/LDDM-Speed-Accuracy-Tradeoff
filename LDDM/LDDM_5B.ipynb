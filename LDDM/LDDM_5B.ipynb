{
 "cells": [
  {
   "cell_type": "code",
   "execution_count": 10,
   "outputs": [],
   "source": [
    "import random\n",
    "import numpy as np"
   ],
   "metadata": {
    "collapsed": false,
    "pycharm": {
     "name": "#%%\n"
    }
   }
  },
  {
   "cell_type": "code",
   "execution_count": 2,
   "outputs": [],
   "source": [
    "dt = .001\n",
    "tau = .1\n",
    "noise_tau = .002\n",
    "w1 = 1\n",
    "w2 = 1\n",
    "alpha = 15\n",
    "beta = 1.1\n",
    "dur = 10\n",
    "sgm = .5\n",
    "threshold = 70\n",
    "S = 10"
   ],
   "metadata": {
    "collapsed": false,
    "pycharm": {
     "name": "#%%\n"
    }
   }
  },
  {
   "cell_type": "code",
   "execution_count": 13,
   "outputs": [],
   "source": [
    "def ave_choice(r):\n",
    "\n",
    "    R1_arr = np.zeros(10240)\n",
    "    R2_arr = np.zeros(10240)\n",
    "    G1_arr = np.zeros(10240)\n",
    "    G2_arr = np.zeros(10240)\n",
    "    D1_arr = np.zeros(10240)\n",
    "    D2_arr = np.zeros(10240)\n",
    "\n",
    "    noise_R1 = np.zeros(10240)\n",
    "    noise_R2 = np.zeros(10240)\n",
    "    noise_G1 = np.zeros(10240)\n",
    "    noise_G2 = np.zeros(10240)\n",
    "    noise_D1 = np.zeros(10240)\n",
    "    noise_D2 = np.zeros(10240)\n",
    "\n",
    "    choice_time = 0\n",
    "    choice = 0\n",
    "\n",
    "    for i in range(1/dt):\n",
    "        V1 = 2 * S * r\n",
    "        V2 = 2 * S - V1\n",
    "\n",
    "    for ti in range(1, 10241):\n",
    "        d_noiseR1 = (-noise_R1[ti-1] + random.randn() * np.sqrt(dt) * sgm) / noise_tau*dt\n",
    "        d_noiseR2 = (-noise_R2[ti-1] + random.randn() * np.sqrt(dt) * sgm) / noise_tau*dt\n",
    "        d_noiseG1 = (-noise_G1[ti-1] + random.randn() * np.sqrt(dt) * sgm) / noise_tau*dt\n",
    "        d_noiseG2 = (-noise_G2[ti-1] + random.randn() * np.sqrt(dt) * sgm) / noise_tau*dt\n",
    "        d_noiseD1 = (-noise_D1[ti-1] + random.randn() * np.sqrt(dt) * sgm) / noise_tau*dt\n",
    "        d_noiseD2 = (-noise_D2[ti-1] + random.randn() * np.sqrt(dt) * sgm) / noise_tau*dt\n",
    "        #d_noiseR1 = (-noiseR1(ti-1) + randn.*sqrt(dt).*sgm)/noise_tau*dt;\n",
    "\n",
    "        #dR1 = (-R1(ti-1) + (alpha*R1(ti-1)+V1) / (1+G1(ti-1)))*dt/tau;\n",
    "        d_R1 = (-R1_arr[ti-1] + (alpha * R1_arr[ti-1] + V1) / (1 + G1_arr[ti-1])) * dt/tau\n",
    "        d_R2 = (-R2_arr[ti-1] + (alpha * R2_arr[ti-1] + V1) / (1 + G2_arr[ti-1])) * dt/tau\n",
    "        #dG1 = (-G1(ti-1) + w1*R1(ti-1) + w2*R2(ti-1) - D1(ti-1))*dt/tau;\n",
    "        d_G1 = (-G1_arr[ti-1] + w1*R1_arr[ti-1] + w2*R2_arr[ti-1] - D1_arr[ti-1]) * dt/tau\n",
    "        d_G2 = (-G2_arr[ti-1] + w1*R1_arr[ti-1] + w2*R2_arr[ti-1] - D2_arr[ti-1]) * dt/tau\n",
    "        #dD1 = (-D1(ti-1) + beta*R1(ti-1))*dt/tau;\n",
    "        d_D1 = (-D1_arr[ti-1] + beta*R1_arr[ti-1]) *dt/tau\n",
    "        d_D2 = (-D2_arr[ti-1] + beta*R2_arr[ti-1]) *dt/tau\n",
    "\n",
    "        #noiseR1(ti) = noiseR1(ti-1) + d_noiseR1;\n",
    "        noise_R1[ti] = noise_R1[ti-1] + d_noiseR1\n",
    "        noise_R2[ti] = noise_R2[ti-1] + d_noiseR2\n",
    "        noise_G1[ti] = noise_G1[ti-1] + d_noiseG1\n",
    "        noise_G2[ti] = noise_G2[ti-1] + d_noiseG2\n",
    "        noise_D1[ti] = noise_D1[ti-1] + d_noiseD1\n",
    "        noise_D2[ti] = noise_D2[ti-1] + d_noiseD2\n",
    "\n",
    "        #R1(ti) = max(R1(ti-1) + dR1 + noiseR1(ti), 0);\n",
    "        R1_arr[ti] = max(R1_arr[ti-1] + d_R1 + noise_R1[ti], 0)\n",
    "        R2_arr[ti] = max(R2_arr[ti-1] + d_R2 + noise_R2[ti], 0)\n",
    "        G1_arr[ti] = max(G1_arr[ti-1] + d_G1 + noise_G1[ti], 0)\n",
    "        G2_arr[ti] = max(G2_arr[ti-1] + d_G2 + noise_G2[ti], 0)\n",
    "        D1_arr[ti] = max(D1_arr[ti-1] + d_D1 + noise_D1[ti], 0)\n",
    "        D2_arr[ti] = max(D2_arr[ti-1] + d_D2 + noise_D2[ti], 0)\n",
    "\n",
    "        if R1_arr[ti] > threshold:\n",
    "            choice = choice + 1\n",
    "            choice_time = choice_time + ti\n",
    "            break\n",
    "        elif R2_arr[ti] > threshold:\n",
    "            choice_time = choice_time + ti\n",
    "            break\n",
    "\n",
    "    choice_time = choice_time / 10240\n",
    "    choice = choice /10240\n",
    "\n",
    "    return choice_time, choice"
   ],
   "metadata": {
    "collapsed": false,
    "pycharm": {
     "name": "#%%\n"
    }
   }
  },
  {
   "cell_type": "code",
   "execution_count": null,
   "outputs": [],
   "source": [],
   "metadata": {
    "collapsed": false,
    "pycharm": {
     "name": "#%%\n"
    }
   }
  }
 ],
 "metadata": {
  "kernelspec": {
   "display_name": "Python 3",
   "language": "python",
   "name": "python3"
  },
  "language_info": {
   "codemirror_mode": {
    "name": "ipython",
    "version": 2
   },
   "file_extension": ".py",
   "mimetype": "text/x-python",
   "name": "python",
   "nbconvert_exporter": "python",
   "pygments_lexer": "ipython2",
   "version": "2.7.6"
  }
 },
 "nbformat": 4,
 "nbformat_minor": 0
}